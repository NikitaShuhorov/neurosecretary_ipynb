{
 "cells": [
  {
   "cell_type": "markdown",
   "id": "0d7cb0fb-6708-47fe-88fb-f8af40e44073",
   "metadata": {
    "id": "0d7cb0fb-6708-47fe-88fb-f8af40e44073"
   },
   "source": [
    "# # Нейро-секретарь: Telegram-бот для протоколов совещаний\n",
    "#"
   ]
  },
  {
   "cell_type": "markdown",
   "id": "rKaqM0g7Aigm",
   "metadata": {
    "id": "rKaqM0g7Aigm"
   },
   "source": [
    "# ## Конфигурация среды\n"
   ]
  },
  {
   "cell_type": "markdown",
   "id": "QnVjnZmkzp18",
   "metadata": {
    "id": "QnVjnZmkzp18"
   },
   "source": [
    "Этот блок кода настраивает переменные окружения и подавляет предупреждения, чтобы избежать конфликтов между библиотеками и убрать лишние сообщения в логах, что делает работу бота более стабильной и чистой."
   ]
  },
  {
   "cell_type": "code",
   "execution_count": 1,
   "id": "TvHpkWC8TwWV",
   "metadata": {
    "id": "TvHpkWC8TwWV"
   },
   "outputs": [],
   "source": [
    "import os\n",
    "import warnings\n",
    "\n",
    "# Подавляем специфические предупреждения\n",
    "os.environ['PYDEVD_DISABLE_FILE_VALIDATION'] = '1'\n",
    "os.environ['KMP_DUPLICATE_LIB_OK'] = 'True'\n",
    "warnings.filterwarnings(\"ignore\", category=UserWarning)\n",
    "warnings.filterwarnings(\"ignore\", category=DeprecationWarning)\n",
    "warnings.filterwarnings(\"ignore\", category=FutureWarning)"
   ]
  },
  {
   "cell_type": "markdown",
   "id": "bBfWCsqWufBA",
   "metadata": {
    "id": "bBfWCsqWufBA"
   },
   "source": [
    "# ## Установка зависимостей\n",
    "# Выполните эту ячейку для установки необходимых библиотек"
   ]
  },
  {
   "cell_type": "code",
   "execution_count": null,
   "id": "e33f5028-d51b-4e13-bd84-8a39fcde5d91",
   "metadata": {
    "colab": {
     "base_uri": "https://localhost:8080/"
    },
    "id": "e33f5028-d51b-4e13-bd84-8a39fcde5d91",
    "outputId": "fa45be7f-3b3f-4040-c76e-0da6a1957e59"
   },
   "outputs": [],
   "source": [
    "!pip install -q python-telegram-bot openai yt-dlp whisper noisereduce soundfile numpy tqdm pydub nest_asyncio"
   ]
  },
  {
   "cell_type": "markdown",
   "id": "U6XVkklJzwc2",
   "metadata": {
    "id": "U6XVkklJzwc2"
   },
   "source": []
  },
  {
   "cell_type": "markdown",
   "id": "5xvP6Qb-1QSp",
   "metadata": {
    "id": "5xvP6Qb-1QSp"
   },
   "source": [
    "**Зта установка помогает избежать несовместимостей и неожиданных изменений в API, которые могут возникнуть при обновлении до более новой версии.**"
   ]
  },
  {
   "cell_type": "code",
   "execution_count": null,
   "id": "stI3_nJgdBIj",
   "metadata": {
    "colab": {
     "base_uri": "https://localhost:8080/"
    },
    "id": "stI3_nJgdBIj",
    "outputId": "ca0f0d65-2c0f-429d-e0b0-a00a6cc38600"
   },
   "outputs": [],
   "source": [
    "!pip install openai==0.28"
   ]
  },
  {
   "cell_type": "code",
   "execution_count": 4,
   "id": "d85f23ee",
   "metadata": {
    "id": "d85f23ee"
   },
   "outputs": [],
   "source": [
    "!sudo apt-get install -y ffmpeg > /dev/null  # Для обработки аудио"
   ]
  },
  {
   "cell_type": "code",
   "execution_count": null,
   "id": "D3ff_qQUyyew",
   "metadata": {
    "colab": {
     "base_uri": "https://localhost:8080/"
    },
    "id": "D3ff_qQUyyew",
    "outputId": "eedb6a51-e043-42fb-df30-8ece477c5b4d"
   },
   "outputs": [],
   "source": [
    "!pip install git+https://github.com/openai/whisper.git # Для Транскрибации аудиофайлов"
   ]
  },
  {
   "cell_type": "markdown",
   "id": "281d6575-2256-433d-8f31-61f6c1ca50e6",
   "metadata": {
    "id": "281d6575-2256-433d-8f31-61f6c1ca50e6"
   },
   "source": [
    "# ## Импорт библиотек и настройка окружения\n"
   ]
  },
  {
   "cell_type": "code",
   "execution_count": 6,
   "id": "e2df2034-a556-43ed-94d7-b7fe6e0774a1",
   "metadata": {
    "id": "e2df2034-a556-43ed-94d7-b7fe6e0774a1"
   },
   "outputs": [],
   "source": [
    "import os\n",
    "import logging\n",
    "import warnings\n",
    "import asyncio\n",
    "from dataclasses import dataclass\n",
    "from getpass import getpass\n",
    "\n",
    "import openai\n",
    "import whisper\n",
    "import yt_dlp\n",
    "import noisereduce as nr\n",
    "import soundfile as sf\n",
    "from telegram import Update\n",
    "from telegram.ext import Application, CommandHandler, MessageHandler, filters\n",
    "from pydub import AudioSegment"
   ]
  },
  {
   "cell_type": "markdown",
   "id": "72b5d9f8-3dfb-4a9b-998c-4f5adad2b386",
   "metadata": {
    "id": "72b5d9f8-3dfb-4a9b-998c-4f5adad2b386"
   },
   "source": [
    "# ## Конфигурация системы"
   ]
  },
  {
   "cell_type": "code",
   "execution_count": 7,
   "id": "7b11c95d-7d1d-414f-972a-27cf29b73241",
   "metadata": {
    "id": "7b11c95d-7d1d-414f-972a-27cf29b73241"
   },
   "outputs": [],
   "source": [
    "# Конфигурация\n",
    "@dataclass\n",
    "class Config:\n",
    "    TELEGRAM_TOKEN: str\n",
    "    OPENAI_API_KEY: str\n",
    "    WHISPER_MODEL: str = \"base\"\n",
    "    GPT_MODEL: str = \"gpt-4-turbo\"\n",
    "    AUDIO_CACHE: str = \"audio_cache\"\n",
    "    MAX_FILE_SIZE_MB: int = 50\n",
    "    TEMP_ANALYSIS: float = 0.2\n",
    "    TEMP_PROTOCOL: float = 0.5\n",
    "    SUPPORTED_FORMATS: tuple = ('wav', 'mp3', 'ogg', 'flac')\n",
    "\n",
    "    def __post_init__(self):\n",
    "        os.makedirs(self.AUDIO_CACHE, exist_ok=True)"
   ]
  },
  {
   "cell_type": "markdown",
   "id": "7ZQRXw5a-aZY",
   "metadata": {
    "id": "7ZQRXw5a-aZY"
   },
   "source": [
    "# ## Обработка аудио с прогресс-баром\n"
   ]
  },
  {
   "cell_type": "code",
   "execution_count": 8,
   "id": "jF6BT1S2-dV1",
   "metadata": {
    "id": "jF6BT1S2-dV1"
   },
   "outputs": [],
   "source": [
    "# Класс для обработки аудио\n",
    "class AudioProcessor:\n",
    "    def __init__(self, config: Config):\n",
    "        self.config = config\n",
    "        self.logger = logging.getLogger(\"AudioProcessor\")\n",
    "\n",
    "    async def process_input(self, update: Update, input_source: str) -> tuple:\n",
    "        \"\"\"\n",
    "        Определяет источник ввода: аудиофайл из Telegram или ссылка на YouTube,\n",
    "        скачивает аудио и конвертирует его в WAV (если требуется).\n",
    "        Возвращает кортеж (путь к аудиофайлу, тип источника).\n",
    "        \"\"\"\n",
    "        if update.message.audio:\n",
    "            try:\n",
    "                # Получаем объект файла и скачиваем его\n",
    "                tg_file = await update.message.audio.get_file()\n",
    "                file_path = os.path.join(self.config.AUDIO_CACHE, f\"{tg_file.file_id}.mp3\")\n",
    "                await tg_file.download_to_drive(custom_path=file_path)\n",
    "                source_type = \"telegram\"\n",
    "                self.logger.info(\"Аудиофайл из Telegram успешно загружен.\")\n",
    "            except Exception as e:\n",
    "                self.logger.error(f\"Ошибка загрузки файла: {e}\")\n",
    "                raise Exception(\"Ошибка при загрузке аудиофайла из Telegram.\")\n",
    "        elif update.message.text:\n",
    "            # Если текст содержит ссылку на YouTube\n",
    "            if \"youtube.com\" in input_source or \"youtu.be\" in input_source:\n",
    "                source_type = \"youtube\"\n",
    "                file_path = await self.download_youtube_audio(input_source)\n",
    "            else:\n",
    "                raise Exception(\"Неподдерживаемый формат. Отправьте аудиофайл или ссылку на YouTube.\")\n",
    "        else:\n",
    "            raise Exception(\"Не удалось определить источник ввода.\")\n",
    "\n",
    "        # Если файл не в WAV, выполняется конвертация\n",
    "        if not file_path.lower().endswith('.wav'):\n",
    "            wav_path = await self._convert_to_wav(file_path)\n",
    "            try:\n",
    "                os.remove(file_path)\n",
    "            except Exception:\n",
    "                pass  # Если не удалось удалить, просто продолжаем\n",
    "            file_path = wav_path\n",
    "\n",
    "        return file_path, source_type\n",
    "\n",
    "    async def _convert_to_wav(self, input_path: str) -> str:\n",
    "        \"\"\"Конвертация аудио в формат WAV с помощью pydub\"\"\"\n",
    "        try:\n",
    "            output_path = os.path.splitext(input_path)[0] + \".wav\"\n",
    "            audio = AudioSegment.from_file(input_path)\n",
    "            audio.export(output_path, format=\"wav\")\n",
    "            self.logger.info(\"Конвертация в WAV завершена.\")\n",
    "            return output_path\n",
    "        except Exception as e:\n",
    "            self.logger.error(f\"Ошибка конвертации: {e}\")\n",
    "            raise Exception(\"Ошибка при конвертации аудио в WAV формат.\")\n",
    "\n",
    "    async def download_youtube_audio(self, url: str) -> str:\n",
    "        \"\"\"Скачивает аудио с YouTube с помощью yt_dlp\"\"\"\n",
    "        try:\n",
    "            ydl_opts = {\n",
    "                'format': 'bestaudio/best',\n",
    "                'outtmpl': os.path.join(self.config.AUDIO_CACHE, '%(id)s.%(ext)s'),\n",
    "                'quiet': True,\n",
    "                'no_warnings': True,\n",
    "            }\n",
    "            with yt_dlp.YoutubeDL(ydl_opts) as ydl:\n",
    "                info = ydl.extract_info(url, download=True)\n",
    "                file_path = ydl.prepare_filename(info)\n",
    "            self.logger.info(\"Аудио с YouTube успешно загружено.\")\n",
    "            return file_path\n",
    "        except Exception as e:\n",
    "            self.logger.error(f\"Ошибка при загрузке аудио с YouTube: {e}\")\n",
    "            raise Exception(\"Ошибка при загрузке аудио с YouTube.\")"
   ]
  },
  {
   "cell_type": "markdown",
   "id": "LKNYPpRS-scO",
   "metadata": {
    "id": "LKNYPpRS-scO"
   },
   "source": [
    "# ## Обработка текста"
   ]
  },
  {
   "cell_type": "code",
   "execution_count": 9,
   "id": "vrArOqk2-ti6",
   "metadata": {
    "id": "vrArOqk2-ti6"
   },
   "outputs": [],
   "source": [
    "class MeetingProcessor:\n",
    "    def __init__(self, config: Config):\n",
    "        self.config = config\n",
    "        self.whisper_model = whisper.load_model(config.WHISPER_MODEL)\n",
    "        openai.api_key = config.OPENAI_API_KEY\n",
    "        self.logger = logging.getLogger(\"MeetingProcessor\")\n",
    "\n",
    "    async def process_meeting(self, audio_path: str) -> str:\n",
    "        \"\"\"\n",
    "        Транскрибирует аудио с помощью модели Whisper и генерирует протокол встречи с помощью GPT.\n",
    "        \"\"\"\n",
    "        try:\n",
    "            self.logger.info(\"Начало транскрипции аудио...\")\n",
    "            result = self.whisper_model.transcribe(audio_path)\n",
    "            transcription = result.get(\"text\", \"\")\n",
    "            self.logger.info(\"Транскрипция завершена.\")\n",
    "\n",
    "            protocol = self.generate_protocol(transcription)\n",
    "            return protocol\n",
    "        except Exception as e:\n",
    "            self.logger.error(f\"Ошибка обработки встречи: {e}\")\n",
    "            raise Exception(\"Ошибка при обработке аудио.\")\n",
    "\n",
    "    def generate_protocol(self, transcription: str) -> str:\n",
    "        \"\"\"\n",
    "        Отправляет транскрипцию в OpenAI GPT для генерации протокола совещания.\n",
    "        \"\"\"\n",
    "        try:\n",
    "            prompt = f\"Создай протокол совещания на основе следующей транскрипции:\\n\\n{transcription}\"\n",
    "            response = openai.ChatCompletion.create(\n",
    "                model=self.config.GPT_MODEL,\n",
    "                messages=[\n",
    "                    {\"role\": \"system\", \"content\": \"Ты помощник, который создает протоколы совещаний.\"},\n",
    "                    {\"role\": \"user\", \"content\": prompt}\n",
    "                ],\n",
    "                temperature=0.5,\n",
    "            )\n",
    "            protocol = response.choices[0].message.content.strip()\n",
    "            return protocol\n",
    "        except Exception as e:\n",
    "            self.logger.error(f\"Ошибка генерации протокола: {e}\")\n",
    "            raise Exception(\"Ошибка при генерации протокола.\")\n"
   ]
  },
  {
   "cell_type": "markdown",
   "id": "uZZCBMJp-zoo",
   "metadata": {
    "id": "uZZCBMJp-zoo"
   },
   "source": [
    "# ## Telegram Bot"
   ]
  },
  {
   "cell_type": "code",
   "execution_count": 10,
   "id": "lXuETDeJ-2br",
   "metadata": {
    "id": "lXuETDeJ-2br"
   },
   "outputs": [],
   "source": [
    "# Основной класс Telegram-бота\n",
    "class NeuroSecretaryBot:\n",
    "    def __init__(self, config: Config):\n",
    "        self.config = config\n",
    "        self.audio_processor = AudioProcessor(config)\n",
    "        self.meeting_processor = MeetingProcessor(config)\n",
    "        self.app = Application.builder().token(config.TELEGRAM_TOKEN).build()\n",
    "\n",
    "        self.app.add_handler(CommandHandler(\"start\", self.start))\n",
    "        self.app.add_handler(MessageHandler(filters.AUDIO | filters.TEXT, self.handle_input))\n",
    "\n",
    "        logging.basicConfig(\n",
    "            format=\"%(asctime)s - %(name)s - %(levelname)s - %(message)s\",\n",
    "            level=logging.INFO\n",
    "        )\n",
    "        self.logger = logging.getLogger(\"Bot\")\n",
    "\n",
    "    async def start(self, update: Update, context):\n",
    "        await update.message.reply_text(\n",
    "            \"🤖 Нейро-секретарь готов к работе!\\n\\n\"\n",
    "            \"Отправьте аудиофайл (MP3/WAV/OOG) или ссылку на YouTube видео\"\n",
    "        )\n",
    "\n",
    "    async def handle_input(self, update: Update, context):\n",
    "        message = await update.message.reply_text(\"🔄 Начало обработки...\")\n",
    "        try:\n",
    "            # Определение типа ввода\n",
    "            if update.message.audio:\n",
    "                input_source = update.message.audio.file_id\n",
    "            elif update.message.text:\n",
    "                input_source = update.message.text\n",
    "            else:\n",
    "                await message.edit_text(\"❌ Неподдерживаемый формат\")\n",
    "                return\n",
    "\n",
    "            # Обработка аудио/ссылки\n",
    "            await message.edit_text(\"📥 Загрузка данных...\")\n",
    "            audio_path, source_type = await self.audio_processor.process_input(update, input_source)\n",
    "\n",
    "            # Генерация протокола встречи\n",
    "            await message.edit_text(\"🔍 Анализ содержимого...\")\n",
    "            protocol = await self.meeting_processor.process_meeting(audio_path)\n",
    "\n",
    "            # Отправка результата\n",
    "            prefix = \"🎥 YouTube: \" if source_type == \"youtube\" else \"✅ Готово:\"\n",
    "            await message.edit_text(f\"{prefix}\\n\\n{protocol}\")\n",
    "\n",
    "            # Очистка временного файла\n",
    "            if os.path.exists(audio_path):\n",
    "                os.remove(audio_path)\n",
    "\n",
    "        except Exception as e:\n",
    "            await message.edit_text(f\"❌ Ошибка: {str(e)}\")\n",
    "            self.logger.error(f\"Main Error: {str(e)}\")\n",
    "\n",
    "    def run(self):\n",
    "        self.logger.info(\"Бот запущен\")\n",
    "        self.app.run_polling()"
   ]
  },
  {
   "cell_type": "markdown",
   "id": "A57tZCTI-_kw",
   "metadata": {
    "id": "A57tZCTI-_kw"
   },
   "source": [
    "# ## Запуск бота"
   ]
  },
  {
   "cell_type": "code",
   "execution_count": null,
   "id": "eM2Fy3Ld_B50",
   "metadata": {
    "id": "eM2Fy3Ld_B50"
   },
   "outputs": [],
   "source": [
    "# Точка входа в программу\n",
    "if __name__ == \"__main__\":\n",
    "    try:\n",
    "        # Для корректной работы в Jupyter применяем nest_asyncio\n",
    "        import nest_asyncio\n",
    "        nest_asyncio.apply()\n",
    "\n",
    "        print(\"🔑 Введите данные для настройки:\")\n",
    "        config = Config(\n",
    "            TELEGRAM_TOKEN=getpass(\"Telegram Token (@BotFather): \"),\n",
    "            OPENAI_API_KEY=getpass(\"OpenAI API Key (https://platform.openai.com): \")\n",
    "        )\n",
    "\n",
    "        bot = NeuroSecretaryBot(config)\n",
    "        bot.run()\n",
    "    except Exception as e:\n",
    "        print(f\"Критическая ошибка: {str(e)}\")"
   ]
  }
 ],
 "metadata": {
  "colab": {
   "provenance": []
  },
  "kernelspec": {
   "display_name": "Python 3 (ipykernel)",
   "language": "python",
   "name": "python3"
  },
  "language_info": {
   "codemirror_mode": {
    "name": "ipython",
    "version": 3
   },
   "file_extension": ".py",
   "mimetype": "text/x-python",
   "name": "python",
   "nbconvert_exporter": "python",
   "pygments_lexer": "ipython3",
   "version": "3.13.2"
  }
 },
 "nbformat": 4,
 "nbformat_minor": 5
}
